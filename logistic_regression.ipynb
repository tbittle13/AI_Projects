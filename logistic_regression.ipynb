{
 "cells": [
  {
   "cell_type": "code",
   "execution_count": 794,
   "metadata": {},
   "outputs": [],
   "source": [
    "import numpy as np\n",
    "import sklearn\n",
    "from sklearn import datasets\n",
    "import matplotlib.pyplot as plt \n",
    "import sys"
   ]
  },
  {
   "cell_type": "code",
   "execution_count": 795,
   "metadata": {},
   "outputs": [],
   "source": [
    "# sigmoid function\n",
    "def sigmoid(z):\n",
    "    pred = 1 / (1 + np.exp(-z))\n",
    "    return pred"
   ]
  },
  {
   "cell_type": "code",
   "execution_count": 796,
   "metadata": {},
   "outputs": [],
   "source": [
    "# log regression prediction function\n",
    "def pred(X, theta):\n",
    "    z = np.dot(X, theta)\n",
    "    h = sigmoid(z)\n",
    "    return h"
   ]
  },
  {
   "cell_type": "code",
   "execution_count": 797,
   "metadata": {},
   "outputs": [],
   "source": [
    "# Log regression loss function\n",
    "def loss_func(h, y):\n",
    "    m = h.shape[0]\n",
    "    J = (1/m)*np.sum((-y*np.log(h))-((1-y)*np.log(1-h)))\n",
    "    return J"
   ]
  },
  {
   "cell_type": "code",
   "execution_count": 798,
   "metadata": {},
   "outputs": [],
   "source": [
    "def gradient_desc(X, y, learning_rate, iterations):\n",
    "    theta = np.random.rand(X.shape[1],1) #matrix must = num_features X 1 column\n",
    "    cost_hist = []\n",
    "    \n",
    "    for i in range(1,iterations):\n",
    "        h = pred(X,theta).reshape(X.shape[0],1)\n",
    "        grad = np.dot(X.T, (h - y.reshape(y.shape[0],1))) / y.shape[0]\n",
    "        theta = theta.reshape(X.shape[1],1) - (learning_rate * grad)\n",
    "        cost_hist.append(loss_func(h,y.reshape(y.shape[0],1)))\n",
    "        #print('Loss at iteration ',i,':',loss_func(h,y.reshape(y.shape[0],1)))\n",
    "        \n",
    "    return theta, cost_hist"
   ]
  },
  {
   "cell_type": "code",
   "execution_count": 799,
   "metadata": {},
   "outputs": [],
   "source": [
    "def normalize(dataset):\n",
    "    col_min = []\n",
    "    col_max = []\n",
    "    rng = []\n",
    "    \n",
    "    num_row = dataset.shape[0]\n",
    "    num_col = dataset.shape[1]\n",
    "    \n",
    "    for c in range(0,num_col):\n",
    "        col_min.append(np.min(dataset[:,c]))\n",
    "        col_max.append(np.max(dataset[:,c]))\n",
    "        rng.append(col_max[c] - col_min[c])\n",
    "        dataset[:,c] = 1 - ((col_max[c] - dataset[:,c])/rng[c])\n",
    "    \n",
    "    return dataset"
   ]
  },
  {
   "cell_type": "code",
   "execution_count": 800,
   "metadata": {},
   "outputs": [],
   "source": [
    "def train_test_split(dataset, perc_split):\n",
    "    np.random.shuffle(dataset)\n",
    "    num_row = dataset.shape[0]\n",
    "    num_col = dataset.shape[1]\n",
    "    #insert error if perc_split is >1, or <0\n",
    "    split_index = round(perc_split * num_row)\n",
    "    remainder = num_row - split_index\n",
    "    \n",
    "    x_train = dataset[0:split_index, 0:num_col-1] \n",
    "    y_train = dataset[0:split_index, num_col-1]\n",
    "    \n",
    "    x_test = dataset[split_index:num_row, 0:num_col-1] \n",
    "    y_test = dataset[split_index:num_row, num_col-1]\n",
    "    \n",
    "    return x_train, y_train, x_test, y_test"
   ]
  },
  {
   "cell_type": "code",
   "execution_count": 801,
   "metadata": {},
   "outputs": [
    {
     "name": "stdout",
     "output_type": "stream",
     "text": [
      "Summary of Raw Data File...\n",
      "Number of Columns in data:  7\n",
      "Number of Rows in data:  50\n"
     ]
    },
    {
     "data": {
      "text/html": [
       "<div>\n",
       "<style scoped>\n",
       "    .dataframe tbody tr th:only-of-type {\n",
       "        vertical-align: middle;\n",
       "    }\n",
       "\n",
       "    .dataframe tbody tr th {\n",
       "        vertical-align: top;\n",
       "    }\n",
       "\n",
       "    .dataframe thead th {\n",
       "        text-align: right;\n",
       "    }\n",
       "</style>\n",
       "<table border=\"1\" class=\"dataframe\">\n",
       "  <thead>\n",
       "    <tr style=\"text-align: right;\">\n",
       "      <th></th>\n",
       "      <th>credit_score</th>\n",
       "      <th>past_dlq</th>\n",
       "      <th>income</th>\n",
       "      <th>employed</th>\n",
       "      <th>dti</th>\n",
       "      <th>num_loans</th>\n",
       "      <th>defaulted</th>\n",
       "    </tr>\n",
       "  </thead>\n",
       "  <tbody>\n",
       "    <tr>\n",
       "      <th>0</th>\n",
       "      <td>746</td>\n",
       "      <td>0</td>\n",
       "      <td>131046</td>\n",
       "      <td>1</td>\n",
       "      <td>0.991888</td>\n",
       "      <td>2</td>\n",
       "      <td>0</td>\n",
       "    </tr>\n",
       "    <tr>\n",
       "      <th>1</th>\n",
       "      <td>867</td>\n",
       "      <td>0</td>\n",
       "      <td>153942</td>\n",
       "      <td>1</td>\n",
       "      <td>3.165010</td>\n",
       "      <td>3</td>\n",
       "      <td>0</td>\n",
       "    </tr>\n",
       "    <tr>\n",
       "      <th>2</th>\n",
       "      <td>818</td>\n",
       "      <td>0</td>\n",
       "      <td>186653</td>\n",
       "      <td>1</td>\n",
       "      <td>1.436693</td>\n",
       "      <td>2</td>\n",
       "      <td>0</td>\n",
       "    </tr>\n",
       "    <tr>\n",
       "      <th>3</th>\n",
       "      <td>880</td>\n",
       "      <td>0</td>\n",
       "      <td>104840</td>\n",
       "      <td>1</td>\n",
       "      <td>2.621929</td>\n",
       "      <td>2</td>\n",
       "      <td>0</td>\n",
       "    </tr>\n",
       "    <tr>\n",
       "      <th>4</th>\n",
       "      <td>651</td>\n",
       "      <td>0</td>\n",
       "      <td>196619</td>\n",
       "      <td>1</td>\n",
       "      <td>0.830759</td>\n",
       "      <td>3</td>\n",
       "      <td>0</td>\n",
       "    </tr>\n",
       "  </tbody>\n",
       "</table>\n",
       "</div>"
      ],
      "text/plain": [
       "   credit_score  past_dlq  income  employed       dti  num_loans  defaulted\n",
       "0           746         0  131046         1  0.991888          2          0\n",
       "1           867         0  153942         1  3.165010          3          0\n",
       "2           818         0  186653         1  1.436693          2          0\n",
       "3           880         0  104840         1  2.621929          2          0\n",
       "4           651         0  196619         1  0.830759          3          0"
      ]
     },
     "execution_count": 801,
     "metadata": {},
     "output_type": "execute_result"
    }
   ],
   "source": [
    "# Credit Risk Example Analysis\n",
    "import csv\n",
    "import pandas as pd\n",
    "\n",
    "df = pd.read_csv(\"fake_risk_data.csv\") \n",
    "\n",
    "num_col = len(df.columns)\n",
    "num_row = len(df.index)\n",
    "\n",
    "print('Summary of Raw Data File...')\n",
    "print('Number of Columns in data: ',num_col)\n",
    "print('Number of Rows in data: ',num_row)\n",
    "\n",
    "df.head()"
   ]
  },
  {
   "cell_type": "code",
   "execution_count": 802,
   "metadata": {},
   "outputs": [],
   "source": [
    "df = pd.read_csv(\"fake_risk_data.csv\")\n",
    "dataset = df.values\n",
    "x_train, y_train, x_test, y_test = train_test_split(dataset,.8)\n",
    "x_train = normalize(x_train)"
   ]
  },
  {
   "cell_type": "code",
   "execution_count": 803,
   "metadata": {},
   "outputs": [],
   "source": [
    "learning_rate = 0.01\n",
    "iterations = 100000\n",
    "theta,c_hist = gradient_desc(x_train, y_train, learning_rate, iterations)"
   ]
  },
  {
   "cell_type": "code",
   "execution_count": 804,
   "metadata": {},
   "outputs": [
    {
     "data": {
      "text/plain": [
       "[<matplotlib.lines.Line2D at 0x1b8589dcc18>]"
      ]
     },
     "execution_count": 804,
     "metadata": {},
     "output_type": "execute_result"
    },
    {
     "data": {
      "image/png": "[encoded data removed]",
      "text/plain": [
       "<Figure size 432x288 with 1 Axes>"
      ]
     },
     "metadata": {
      "needs_background": "light"
     },
     "output_type": "display_data"
    }
   ],
   "source": [
    "plt.plot(c_hist)"
   ]
  },
  {
   "cell_type": "code",
   "execution_count": 805,
   "metadata": {},
   "outputs": [
    {
     "name": "stdout",
     "output_type": "stream",
     "text": [
      "Low Risk. Probability =  0.24223032912556441\n"
     ]
    }
   ],
   "source": [
    "# test some examples\n",
    "credit_score = 800\n",
    "number_past_dlnq = 0\n",
    "income = 150000\n",
    "employed = 1\n",
    "DTI = .7\n",
    "num_loans = 3\n",
    "\n",
    "inputs = [credit_score, number_past_dlnq, income, employed, DTI, num_loans]\n",
    "\n",
    "#normalize input\n",
    "for c in range(0,num_col-1):\n",
    "    inputs[c] = 1 - ((col_max[c] - inputs[c])/rng[c])\n",
    "\n",
    "#predicted output\n",
    "if pred(inputs,theta)[0] > .5:\n",
    "    print(\"High Risk. Probability = \",pred(inputs,theta)[0])\n",
    "else:\n",
    "    print(\"Low Risk. Probability = \",pred(inputs,theta)[0])"
   ]
  },
  {
   "cell_type": "code",
   "execution_count": 755,
   "metadata": {},
   "outputs": [],
   "source": [
    "#next thing to do is run the prediction on the test set, and see how accurate it is"
   ]
  },
  {
   "cell_type": "code",
   "execution_count": 807,
   "metadata": {},
   "outputs": [
    {
     "data": {
      "text/plain": [
       "array([[0.26811594, 0.        , 0.        , 1.        , 0.        ,\n",
       "        0.        ],\n",
       "       [0.42210145, 0.        , 0.58521811, 1.        , 0.0645086 ,\n",
       "        1.        ],\n",
       "       [0.05434783, 0.        , 0.40301802, 1.        , 0.61271401,\n",
       "        1.        ],\n",
       "       [0.55615942, 0.        , 0.66649713, 1.        , 0.54988962,\n",
       "        0.66666667],\n",
       "       [0.6557971 , 0.        , 0.70749521, 1.        , 0.73055393,\n",
       "        0.        ],\n",
       "       [0.38405797, 0.        , 1.        , 1.        , 0.46056166,\n",
       "        1.        ],\n",
       "       [0.65398551, 0.        , 0.        , 0.        , 0.        ,\n",
       "        0.66666667],\n",
       "       [0.00543478, 0.        , 0.26185669, 1.        , 0.22426998,\n",
       "        0.        ],\n",
       "       [1.        , 0.        , 0.91177353, 1.        , 1.        ,\n",
       "        0.66666667],\n",
       "       [0.        , 1.        , 0.41186254, 1.        , 0.54385751,\n",
       "        0.33333333]])"
      ]
     },
     "execution_count": 807,
     "metadata": {},
     "output_type": "execute_result"
    }
   ],
   "source": [
    "normalize(x_test)"
   ]
  },
  {
   "cell_type": "code",
   "execution_count": 810,
   "metadata": {},
   "outputs": [
    {
     "data": {
      "text/plain": [
       "array([[0.91347108],\n",
       "       [0.66287178],\n",
       "       [0.85015607],\n",
       "       [0.29534014],\n",
       "       [0.14014474],\n",
       "       [0.34843986],\n",
       "       [0.07428049],\n",
       "       [0.92812187],\n",
       "       [0.02001867],\n",
       "       [0.99814573]])"
      ]
     },
     "execution_count": 810,
     "metadata": {},
     "output_type": "execute_result"
    }
   ],
   "source": [
    "pred(x_test,theta)"
   ]
  },
  {
   "cell_type": "code",
   "execution_count": 811,
   "metadata": {},
   "outputs": [
    {
     "data": {
      "text/plain": [
       "array([1., 0., 1., 0., 0., 0., 0., 1., 0., 1.])"
      ]
     },
     "execution_count": 811,
     "metadata": {},
     "output_type": "execute_result"
    }
   ],
   "source": [
    "y_test"
   ]
  },
  {
   "cell_type": "code",
   "execution_count": null,
   "metadata": {},
   "outputs": [],
   "source": []
  }
 ],
 "metadata": {
  "kernelspec": {
   "display_name": "Python 3",
   "language": "python",
   "name": "python3"
  },
  "language_info": {
   "codemirror_mode": {
    "name": "ipython",
    "version": 3
   },
   "file_extension": ".py",
   "mimetype": "text/x-python",
   "name": "python",
   "nbconvert_exporter": "python",
   "pygments_lexer": "ipython3",
   "version": "3.7.0"
  }
 },
 "nbformat": 4,
 "nbformat_minor": 2
}
